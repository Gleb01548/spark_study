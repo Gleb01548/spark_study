{
 "cells": [
  {
   "cell_type": "markdown",
   "metadata": {},
   "source": [
    "Задача по каждому производителю (поле manufacturer_name):\n",
    "- кол-во объявлений\n",
    "- средний год выпуска автомобилий\n",
    "- минимальную цену\n",
    "- максимальную цену\n",
    "    \n",
    "Выгрузить результат в output.csv "
   ]
  },
  {
   "cell_type": "code",
   "execution_count": 24,
   "metadata": {},
   "outputs": [],
   "source": [
    "from pyspark.sql import SparkSession\n",
    "import pyspark.sql.functions as F"
   ]
  },
  {
   "cell_type": "code",
   "execution_count": 35,
   "metadata": {},
   "outputs": [
    {
     "name": "stdout",
     "output_type": "stream",
     "text": [
      "+-----------------+-----+--------+---------+---------+\n",
      "|manufacturer_name|count|avg_year|min_price|max_price|\n",
      "+-----------------+-----+--------+---------+---------+\n",
      "|       Volkswagen| 4243|    2002|      1.0|  43999.0|\n",
      "|            Lexus|  213|    2008|   2500.0| 48610.45|\n",
      "|           Jaguar|   53|    2009|   2500.0|  50000.0|\n",
      "|            Rover|  235|    1998|    200.0|   9900.0|\n",
      "|           Lancia|   92|    2000|    200.0|   9500.0|\n",
      "+-----------------+-----+--------+---------+---------+\n",
      "only showing top 5 rows\n",
      "\n"
     ]
    }
   ],
   "source": [
    "def main(): \n",
    "    spark = SparkSession.builder.getOrCreate()\n",
    "    df = spark.read.format(\"csv\").option('header', 'True').load(\"data/cars.csv\")\n",
    "    \n",
    "    output = (\n",
    "        df\n",
    "        .groupBy(\"manufacturer_name\")\n",
    "        .agg(\n",
    "            F.count(\"manufacturer_name\").alias(\"count\"), \n",
    "            F.round(F.avg(\"year_produced\")).cast('int').alias(\"avg_year\"), \n",
    "            F.min(F.col(\"price_usd\").cast('float')).alias(\"min_price\"), \n",
    "            F.max(F.col(\"price_usd\").cast('float')).alias(\"max_price\")\n",
    "        )\n",
    "    )\n",
    "\n",
    "    output.show(5)\n",
    "    output.coalesce(1).write.mode(\"overwrite\").format('json').save('data/result.json')\n",
    "main()"
   ]
  },
  {
   "cell_type": "code",
   "execution_count": null,
   "metadata": {},
   "outputs": [],
   "source": []
  }
 ],
 "metadata": {
  "kernelspec": {
   "display_name": "vscode_pyspark",
   "language": "python",
   "name": "vscode_pyspark"
  },
  "language_info": {
   "codemirror_mode": {
    "name": "ipython",
    "version": 3
   },
   "file_extension": ".py",
   "mimetype": "text/x-python",
   "name": "python",
   "nbconvert_exporter": "python",
   "pygments_lexer": "ipython3",
   "version": "3.11.6"
  }
 },
 "nbformat": 4,
 "nbformat_minor": 2
}
